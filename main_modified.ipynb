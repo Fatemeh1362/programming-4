{
 "cells": [
  {
   "cell_type": "code",
   "execution_count": 1,
   "id": "fcbdb19c",
   "metadata": {
    "scrolled": false
   },
   "outputs": [
    {
     "name": "stdout",
     "output_type": "stream",
     "text": [
      "Dataset downloaded and extracted.\n",
      "Validation Accuracy: 1.00\n",
      "Classification Report:\n",
      "               precision    recall  f1-score   support\n",
      "\n",
      "      BROKEN       0.00      0.00      0.00         1\n",
      "      NORMAL       1.00      1.00      1.00     36700\n",
      "  RECOVERING       1.00      1.00      1.00      2611\n",
      "\n",
      "    accuracy                           1.00     39312\n",
      "   macro avg       0.67      0.67      0.67     39312\n",
      "weighted avg       1.00      1.00      1.00     39312\n",
      "\n",
      "Anomaly plot saved to C:/Users/mozhdeh/Desktop/programming 4\\anomaly_plot_sensor_01.png\n",
      "Predictions for new data:\n",
      " ['NORMAL' 'NORMAL' 'NORMAL' ... 'NORMAL' 'NORMAL' 'NORMAL']\n"
     ]
    },
    {
     "ename": "KeyError",
     "evalue": "'sensors'",
     "output_type": "error",
     "traceback": [
      "\u001b[1;31m---------------------------------------------------------------------------\u001b[0m",
      "\u001b[1;31mKeyError\u001b[0m                                  Traceback (most recent call last)",
      "Cell \u001b[1;32mIn[1], line 39\u001b[0m\n\u001b[0;32m     36\u001b[0m         \u001b[38;5;28mprint\u001b[39m(\u001b[38;5;124mf\u001b[39m\u001b[38;5;124m\"\u001b[39m\u001b[38;5;124mAn error occurred while running the production pipeline: \u001b[39m\u001b[38;5;132;01m{\u001b[39;00me\u001b[38;5;132;01m}\u001b[39;00m\u001b[38;5;124m\"\u001b[39m)\n\u001b[0;32m     38\u001b[0m \u001b[38;5;28;01mif\u001b[39;00m \u001b[38;5;18m__name__\u001b[39m \u001b[38;5;241m==\u001b[39m \u001b[38;5;124m\"\u001b[39m\u001b[38;5;124m__main__\u001b[39m\u001b[38;5;124m\"\u001b[39m:\n\u001b[1;32m---> 39\u001b[0m     main()\n",
      "Cell \u001b[1;32mIn[1], line 30\u001b[0m, in \u001b[0;36mmain\u001b[1;34m()\u001b[0m\n\u001b[0;32m     27\u001b[0m     \u001b[38;5;28mprint\u001b[39m(\u001b[38;5;124mf\u001b[39m\u001b[38;5;124m\"\u001b[39m\u001b[38;5;124mDataset file not found at \u001b[39m\u001b[38;5;132;01m{\u001b[39;00mdataset_path\u001b[38;5;132;01m}\u001b[39;00m\u001b[38;5;124m\"\u001b[39m)\n\u001b[0;32m     29\u001b[0m \u001b[38;5;66;03m# Initialize and run the production pipeline\u001b[39;00m\n\u001b[1;32m---> 30\u001b[0m production_pipeline \u001b[38;5;241m=\u001b[39m ProductionPipeline(config_path\u001b[38;5;241m=\u001b[39m\u001b[38;5;124m'\u001b[39m\u001b[38;5;124mapplication.json\u001b[39m\u001b[38;5;124m'\u001b[39m)\n\u001b[0;32m     32\u001b[0m \u001b[38;5;66;03m# Make sure the config file is valid and contains necessary keys\u001b[39;00m\n\u001b[0;32m     33\u001b[0m \u001b[38;5;28;01mtry\u001b[39;00m:\n",
      "File \u001b[1;32m~\\production_pipeline.py:16\u001b[0m, in \u001b[0;36mProductionPipeline.__init__\u001b[1;34m(self, config_path)\u001b[0m\n\u001b[0;32m     14\u001b[0m \u001b[38;5;28mself\u001b[39m\u001b[38;5;241m.\u001b[39msensors \u001b[38;5;241m=\u001b[39m \u001b[38;5;28;01mNone\u001b[39;00m\n\u001b[0;32m     15\u001b[0m \u001b[38;5;28mself\u001b[39m\u001b[38;5;241m.\u001b[39mcheck_interval \u001b[38;5;241m=\u001b[39m \u001b[38;5;28;01mNone\u001b[39;00m\n\u001b[1;32m---> 16\u001b[0m \u001b[38;5;28mself\u001b[39m\u001b[38;5;241m.\u001b[39mload_config()\n\u001b[0;32m     17\u001b[0m \u001b[38;5;28mself\u001b[39m\u001b[38;5;241m.\u001b[39msetup_logging()\n",
      "File \u001b[1;32m~\\production_pipeline.py:25\u001b[0m, in \u001b[0;36mProductionPipeline.load_config\u001b[1;34m(self)\u001b[0m\n\u001b[0;32m     23\u001b[0m     \u001b[38;5;28mself\u001b[39m\u001b[38;5;241m.\u001b[39moutput_dir \u001b[38;5;241m=\u001b[39m config[\u001b[38;5;124m'\u001b[39m\u001b[38;5;124moutput_directory\u001b[39m\u001b[38;5;124m'\u001b[39m]\n\u001b[0;32m     24\u001b[0m     \u001b[38;5;28mself\u001b[39m\u001b[38;5;241m.\u001b[39mimg_dir \u001b[38;5;241m=\u001b[39m config[\u001b[38;5;124m'\u001b[39m\u001b[38;5;124mimg_directory\u001b[39m\u001b[38;5;124m'\u001b[39m]\n\u001b[1;32m---> 25\u001b[0m     \u001b[38;5;28mself\u001b[39m\u001b[38;5;241m.\u001b[39msensors \u001b[38;5;241m=\u001b[39m config[\u001b[38;5;124m'\u001b[39m\u001b[38;5;124msensors\u001b[39m\u001b[38;5;124m'\u001b[39m]\n\u001b[0;32m     26\u001b[0m     \u001b[38;5;28mself\u001b[39m\u001b[38;5;241m.\u001b[39mcheck_interval \u001b[38;5;241m=\u001b[39m config[\u001b[38;5;124m'\u001b[39m\u001b[38;5;124minterval\u001b[39m\u001b[38;5;124m'\u001b[39m]\n\u001b[0;32m     27\u001b[0m logging\u001b[38;5;241m.\u001b[39minfo(\u001b[38;5;124m\"\u001b[39m\u001b[38;5;124mConfiguration loaded.\u001b[39m\u001b[38;5;124m\"\u001b[39m)\n",
      "\u001b[1;31mKeyError\u001b[0m: 'sensors'"
     ]
    }
   ],
   "source": [
    "import os\n",
    "from dataset_loader import DatasetDownloader\n",
    "from production_pipeline import ProductionPipeline\n",
    "from pipeline_model import ModelPipeline\n",
    "\n",
    "def main():\n",
    "    # Specify the credentials file, API URL, and destination folder\n",
    "    credentials_file = 'C:/Users/mozhdeh/Desktop/programming 4/kaggle.json'\n",
    "    api_url = 'https://www.kaggle.com/api/v1/datasets/download/nphantawee/pump-sensor-data'\n",
    "    destination_folder = 'C:/Users/mozhdeh/Desktop/programming 4'\n",
    "    os.makedirs(destination_folder, exist_ok=True)\n",
    "\n",
    "    # Create an instance of DatasetDownloader and download the dataset\n",
    "    downloader = DatasetDownloader(credentials_file, api_url, destination_folder)\n",
    "    downloader.download_dataset()\n",
    "\n",
    "    # Define the path to the dataset\n",
    "    dataset_path = os.path.join(destination_folder, 'sensor.csv')  # Adjust the file name if needed\n",
    "\n",
    "    # Initialize and use ModelPipeline\n",
    "    model_pipeline = ModelPipeline(model_path=os.path.join(destination_folder, 'model.pkl'), data_dir=destination_folder)\n",
    "\n",
    "    # Ensure the dataset file exists before running the pipeline\n",
    "    if os.path.exists(dataset_path):\n",
    "        model_pipeline.run_pipeline(input_data_path=dataset_path)\n",
    "    else:\n",
    "        print(f\"Dataset file not found at {dataset_path}\")\n",
    "\n",
    "    # Initialize and run the production pipeline\n",
    "    production_pipeline = ProductionPipeline(config_path='application.json')\n",
    "\n",
    "    # Make sure the config file is valid and contains necessary keys\n",
    "    try:\n",
    "        production_pipeline.run()\n",
    "    except Exception as e:\n",
    "        print(f\"An error occurred while running the production pipeline: {e}\")\n",
    "\n",
    "if __name__ == \"__main__\":\n",
    "    main()\n"
   ]
  }
 ],
 "metadata": {
  "kernelspec": {
   "display_name": "Python 3 (ipykernel)",
   "language": "python",
   "name": "python3"
  },
  "language_info": {
   "codemirror_mode": {
    "name": "ipython",
    "version": 3
   },
   "file_extension": ".py",
   "mimetype": "text/x-python",
   "name": "python",
   "nbconvert_exporter": "python",
   "pygments_lexer": "ipython3",
   "version": "3.11.5"
  }
 },
 "nbformat": 4,
 "nbformat_minor": 5
}
