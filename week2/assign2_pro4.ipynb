{
 "cells": [
  {
   "cell_type": "markdown",
   "id": "8128ec27",
   "metadata": {},
   "source": [
    "# The goal of this assignment:\n",
    "The goal of this assignment is to perform a comprehensive static code analysis on a provided codebase used to create reports from HealthShare Referral Manager (HSRM) files. The task involves understanding the workings of the application, evaluating adherence to software design principles, and suggesting improvements where necessary. The assignment consists of several exercises aimed at exploring different aspects of the codebase."
   ]
  },
  {
   "cell_type": "markdown",
   "id": "d0ae0e5b",
   "metadata": {},
   "source": [
    "# Exercise 1"
   ]
  },
  {
   "cell_type": "code",
   "execution_count": 5,
   "id": "c3ea9861",
   "metadata": {},
   "outputs": [
    {
     "name": "stderr",
     "output_type": "stream",
     "text": [
      "INFO:__main__:Starting file download...\n",
      "INFO:__main__:File download completed.\n",
      "INFO:__main__:Fetching HSMR files for hospital types: ['type1', 'type2']\n",
      "ERROR:__main__:An error occurred: 'AgbCodeData' object has no attribute 'iterrows'\n"
     ]
    },
    {
     "name": "stdout",
     "output_type": "stream",
     "text": [
      "Downloading HSMR files...\n",
      "DataFrame initialized with columns: RangeIndex(start=0, stop=0, step=1)\n",
      "Columns available in DataFrame: RangeIndex(start=0, stop=0, step=1)\n",
      "Column 'AGBCode' is not found in the DataFrame.\n"
     ]
    }
   ],
   "source": [
    "\n",
    "import logging\n",
    "from FileDownloader import FileDownloader\n",
    "from HsmrReportFetcher import HsmrReportsFetcher\n",
    "from HsmrReportHandler import HsmrReportHandler\n",
    "from CcsHospitalDataExtracter import CcsHospitalDataExtracter\n",
    "import pandas as pd\n",
    "\n",
    "# Configure logging\n",
    "logging.basicConfig(level=logging.INFO)\n",
    "logger = logging.getLogger(__name__)\n",
    "\n",
    "def main():\n",
    "    try:\n",
    "        #initializing the FileDownloader and download files\n",
    "        fd = FileDownloader()\n",
    "        logger.info(\"Starting file download...\")\n",
    "        fd.download_hsrm_files()  # Ensure this method exists and is implemented\n",
    "        logger.info(\"File download completed.\")\n",
    "\n",
    "        # Initializing HsmrReportsFetcher and fetch files\n",
    "        hrf = HsmrReportsFetcher()\n",
    "        hospital_types = [\"type1\", \"type2\"]  \n",
    "        logger.info(\"Fetching HSMR files for hospital types: %s\", hospital_types)\n",
    "        hrf.fetch_files(hospital_types)  \n",
    "        logger.info(\"HSMR files fetching completed.\")\n",
    "\n",
    "        #initializing HsmrReportHandler and handle reports\n",
    "        hrh = HsmrReportHandler()\n",
    "        logger.info(\"Handling HSMR reports...\")\n",
    "        hrh.handle_hsrm_reports()  \n",
    "        logger.info(\"HSMR reports handling completed.\")\n",
    "\n",
    "        # initialize CcsHospitalDataExtracter and extract data\n",
    "        chde = CcsHospitalDataExtracter()\n",
    "        logger.info(\"Extracting CCS data...\")\n",
    "        chde.extract_ccs_data()  \n",
    "        logger.info(\"CCS data extraction completed.\")\n",
    "        \n",
    "        logger.info(\"Generating reports...\")\n",
    "        chde.generate_reports()  \n",
    "        logger.info(\"Reports generation completed.\")\n",
    "\n",
    "    except Exception as e:\n",
    "        logger.error(\"An error occurred: %s\", e)\n",
    "\n",
    "if __name__ == \"__main__\":\n",
    "    main()\n"
   ]
  },
  {
   "cell_type": "markdown",
   "id": "245631c5",
   "metadata": {},
   "source": [
    "\n",
    " this is text-based representation of the sequence diagram using PlantUML syntax to generate the diagram using a PlantUML tool\n",
    "\n",
    "@startuml\n",
    "\n",
    "participant Main as main\n",
    "\n",
    "participant FileDownloader as fd\n",
    "\n",
    "participant HsmrReportFetcher as hrf\n",
    "\n",
    "participant HsmrReportHandler as hrh\n",
    "\n",
    "participant CcsHospitalDataExtractor as chde\n",
    "\n",
    "User -> main: start()\n",
    "\n",
    "main -> fd: download_hsmr_files()\n",
    "\n",
    "fd -> hrf: fetch_hsmr_reports()\n",
    "\n",
    "hrf -> hrh: handle_hsmr_reports()\n",
    "\n",
    "hrh -> chde: extract_ccs_data()\n",
    "\n",
    "chde -> main: generate_reports()\n",
    "\n",
    "@enduml\n",
    "\n"
   ]
  },
  {
   "cell_type": "markdown",
   "id": "5ca72af9",
   "metadata": {},
   "source": [
    "# Exercise2\n"
   ]
  },
  {
   "cell_type": "markdown",
   "id": "cbc6fb25",
   "metadata": {},
   "source": [
    "What is a Factory?\n",
    "\n",
    "In software design, a factory is a design pattern used to create objects without specifying the exact class of the object that will be created. The main idea behind the factory pattern is to define an interface for creating an object, but allow subclasses to alter the type of objects that will be created. This is particularly useful for managing and maintaining code when dealing with multiple types of objects that share a common interface.\n",
    "\n",
    "key Characteristics of the Factory Pattern:\n",
    "\n",
    "Encapsulation of Object Creation:The creation logic is centralized in a factory class, so client code does not need to know the details of how objects are created.\n",
    "\n",
    "Flexibility and Extensibility: New types of objects can be added with minimal changes to the code, following the Open/Closed Principle.\n",
    "\n",
    "Abstraction: It provides a way to decouple the client code from the concrete classes that implement the interface"
   ]
  },
  {
   "cell_type": "markdown",
   "id": "07d39682",
   "metadata": {},
   "source": [
    "Does the implementation of the factory method follow the Interface Segregation Principle?\n",
    "\n",
    "in this exercise, the factory method is used to create instances of different HsmrParser implementations based on the file format (e.g., PDF, text).And ISP dictates that a class should only implement methods that are relevant to it and not be burdened with unnecessary methods .So, If the HsmrParser interface only contains common methods needed by all parsers, and concrete parser implementations do not include unnecessary methods, then the factory method implementation follows the Interface Segregation Principle.According the classes of pasers type and  HsmrParser that we have yes it follows the ISP too."
   ]
  },
  {
   "cell_type": "markdown",
   "id": "1ec16103",
   "metadata": {},
   "source": [
    "# Exercise3"
   ]
  },
  {
   "cell_type": "markdown",
   "id": "ac74c854",
   "metadata": {},
   "source": [
    "Review the python files starting with Ccs. Are those files adhering to the single-responsibility principle: \"Every class should have only one responsibility”?\n",
    "\n",
    "The CcsClassification class in its current form does not fully adhere to the Single Responsibility Principle because it combines multiple responsibilities related to file handling, data transformation, and data formatting. Refactoring the class into smaller, more focused classes can improve adherence to SRP and make the codebase more modular and maintainable."
   ]
  },
  {
   "cell_type": "markdown",
   "id": "6c0f09e8",
   "metadata": {},
   "source": [
    "# Exercise 4"
   ]
  },
  {
   "cell_type": "markdown",
   "id": "0d2f94da",
   "metadata": {},
   "source": [
    "can you find examples of the Liskov substitution principle: \"Functions that use pointers or references to base classes must be able to use objects of derived classes without knowing it.\" Explain your answer.\n",
    "\n",
    "forexample.  \n",
    "#Base class\n",
    "class HsmrParser:\n",
    "    def parse(self):\n",
    "        raise NotImplementedError(\"Subclasses must implement this method\")\n",
    "\n",
    "#Derived class for parsing PDF files\n",
    "class PdfHsmrParser(HsmrParser):\n",
    "    def parse(self):\n",
    "        # Implementation for parsing PDF files\n",
    "        print(\"Parsing PDF file\")\n",
    "\n",
    "#Derived class for parsing text files\n",
    "class TextHsmrParser(HsmrParser):\n",
    "    def parse(self):\n",
    "        # Implementation for parsing text files\n",
    "        print(\"Parsing text file\")\n",
    "#Because both PdfHsmrParser and TextHsmrParser implement the parse method defined in HsmrParser, instances of these subclasses can be used in place of an HsmrParser object.This substitution will not affect the correctness of the program, as the parse method is guaranteed to exist and behave as expected."
   ]
  },
  {
   "cell_type": "markdown",
   "id": "408bb957",
   "metadata": {},
   "source": [
    "# Exercise 5"
   ]
  },
  {
   "cell_type": "markdown",
   "id": "3c25fbe8",
   "metadata": {},
   "source": [
    "Search for the Settings class. What makes this class a singleton object and is a singleton object SOLID?\n",
    "\n",
    "The LocalSettings class is designed to be a Singleton, ensuring that only one instance of the settings is created and used throughout the application. This approach prevents multiple instances of the same class and multiple unnecessary parsing of the settings file, thus maintaining consistency.\n",
    "Single Instance Control: The LocalSettings class uses a private inner class __LocalSettings to hold the actual settings data.\n",
    "Static Instance Variable: The LocalSettings class has a static variable instance which holds the single instance of __LocalSettings.\n",
    "Controlled Instantiation: The __new__ and __init__ methods ensure that only one instance of __LocalSettings is created. If an instance already exists, it returns that instance instead of creating a new one.\n",
    "\n",
    "\n",
    "\n",
    "Is a Singleton Object SOLID?\n",
    "\n",
    "Single Responsibility Principle (SRP): The LocalSettings class primarily handles loading and providing access to settings, which adheres to SRP.\n",
    "\n",
    "Open/Closed Principle (OCP): The class is not easily extendable for new behavior without modifying the existing code, which can violate OCP.\n",
    "\n",
    "Liskov Substitution Principle (LSP): Not directly applicable to singletons, but any subclass should not change the behavior expected from the singleton instance.\n",
    "\n",
    "Interface Segregation Principle (ISP): The class does not have multiple interfaces, so ISP is not a concern here.\n",
    "\n",
    "Dependency Inversion Principle (DIP): The class depends on concrete implementations rather than abstractions, which can violate DIP."
   ]
  },
  {
   "cell_type": "markdown",
   "id": "fe79fddb",
   "metadata": {},
   "source": [
    "The hospital types codes are stored in a python module hospital_types.py. Is this a logical solution?\n",
    "\n",
    "Storing hospital type codes in a module is a logical solution because:\n",
    "\n",
    "Centralization: It centralizes all the hospital type codes, making them easier to manage.\n",
    "Readability: It makes the code more readable and maintains consistency across the application.\n",
    "Maintainability: Changes to the codes can be made in one place.\n",
    "\n"
   ]
  },
  {
   "cell_type": "markdown",
   "id": "e10702f5",
   "metadata": {},
   "source": [
    "Is there an alternative solution for these kinds of local settings and parameters? Please elaborate, explaining the pros and cons of your alternative(s).\n",
    "\n",
    "Alternative Solutions for Local Settings and Parameters:\n",
    "\n",
    "1. Configuration Files (JSON, YAML, INI)\n",
    "\n",
    "Pros:\n",
    "\n",
    "Flexibility: Easy to change settings without modifying the code.\n",
    "Readability: Structured and human-readable format.\n",
    "Maintainability: Externalized configuration simplifies code maintenance.\n",
    "Cons:\n",
    "\n",
    "Parsing Overhead: Requires parsing at runtime.\n",
    "Security: Sensitive data in configuration files need proper handling.\n",
    "\n",
    "\n",
    "\n",
    "2. Environment Variables\n",
    "\n",
    "Pros:\n",
    "\n",
    "Security: Environment variables are often more secure for sensitive data.\n",
    "Portability: Easily configurable across different environments (e.g., development, testing, production).\n",
    "\n",
    "Cons:\n",
    "\n",
    "Management Complexity: Can be harder to manage and document.\n",
    "Lack of Structure: Environment variables are flat and lack inherent structure.\n",
    "\n"
   ]
  },
  {
   "cell_type": "code",
   "execution_count": null,
   "id": "d5ad7fbd",
   "metadata": {},
   "outputs": [],
   "source": []
  }
 ],
 "metadata": {
  "kernelspec": {
   "display_name": "Python 3 (ipykernel)",
   "language": "python",
   "name": "python3"
  },
  "language_info": {
   "codemirror_mode": {
    "name": "ipython",
    "version": 3
   },
   "file_extension": ".py",
   "mimetype": "text/x-python",
   "name": "python",
   "nbconvert_exporter": "python",
   "pygments_lexer": "ipython3",
   "version": "3.11.5"
  }
 },
 "nbformat": 4,
 "nbformat_minor": 5
}
