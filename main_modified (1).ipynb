{
 "cells": [
  {
   "cell_type": "code",
   "execution_count": null,
   "id": "fcbdb19c",
   "metadata": {
    "scrolled": false
   },
   "outputs": [
    {
     "name": "stdout",
     "output_type": "stream",
     "text": [
      "Dataset downloaded and extracted.\n",
      "Validation Accuracy: 1.00\n",
      "Classification Report:\n",
      "               precision    recall  f1-score   support\n",
      "\n",
      "      BROKEN       0.00      0.00      0.00         1\n",
      "      NORMAL       1.00      1.00      1.00     36700\n",
      "  RECOVERING       1.00      1.00      1.00      2611\n",
      "\n",
      "    accuracy                           1.00     39312\n",
      "   macro avg       0.67      0.67      0.67     39312\n",
      "weighted avg       1.00      1.00      1.00     39312\n",
      "\n",
      "Anomaly plot saved to C:/Users/mozhdeh/Desktop/programming 4\\anomaly_plot_sensor_01.png\n",
      "Predictions for new data:\n",
      " ['NORMAL' 'NORMAL' 'NORMAL' ... 'NORMAL' 'NORMAL' 'NORMAL']\n"
     ]
    }
   ],
   "source": [
    "import os\n",
    "from dataset_loader import DatasetDownloader\n",
    "from production_pipeline import ProductionPipeline\n",
    "from pipeline_model import ModelPipeline\n",
    "\n",
    "def main():\n",
    "    # Specify the credentials file, API URL, and destination folder\n",
    "    credentials_file = 'C:/Users/mozhdeh/Desktop/programming 4/kaggle.json'\n",
    "    api_url = 'https://www.kaggle.com/api/v1/datasets/download/nphantawee/pump-sensor-data'\n",
    "    destination_folder = 'C:/Users/mozhdeh/Desktop/programming 4'\n",
    "    os.makedirs(destination_folder, exist_ok=True)\n",
    "\n",
    "    # Create an instance of DatasetDownloader and download the dataset\n",
    "    downloader = DatasetDownloader(credentials_file, api_url, destination_folder)\n",
    "    downloader.download_dataset()\n",
    "\n",
    "    # Define the path to the dataset\n",
    "    dataset_path = os.path.join(destination_folder, 'sensor.csv')  # Adjust the file name if needed\n",
    "\n",
    "    # Initialize and use ModelPipeline\n",
    "    model_pipeline = ModelPipeline(model_path=os.path.join(destination_folder, 'model.pkl'), data_dir=destination_folder)\n",
    "\n",
    "    # Ensure the dataset file exists before running the pipeline\n",
    "    if os.path.exists(dataset_path):\n",
    "        model_pipeline.run_pipeline(input_data_path=dataset_path)\n",
    "    else:\n",
    "        print(f\"Dataset file not found at {dataset_path}\")\n",
    "\n",
    "    # Initialize and run the production pipeline\n",
    "    production_pipeline = ProductionPipeline(config_path='application.json')\n",
    "\n",
    "    # Make sure the config file is valid and contains necessary keys\n",
    "    try:\n",
    "        production_pipeline.run()\n",
    "    except Exception as e:\n",
    "        print(f\"An error occurred while running the production pipeline: {e}\")\n",
    "\n",
    "if __name__ == \"__main__\":\n",
    "    main()\n"
   ]
  },
  {
   "cell_type": "code",
   "execution_count": null,
   "id": "8a3c6750",
   "metadata": {},
   "outputs": [],
   "source": []
  }
 ],
 "metadata": {
  "kernelspec": {
   "display_name": "Python 3 (ipykernel)",
   "language": "python",
   "name": "python3"
  },
  "language_info": {
   "codemirror_mode": {
    "name": "ipython",
    "version": 3
   },
   "file_extension": ".py",
   "mimetype": "text/x-python",
   "name": "python",
   "nbconvert_exporter": "python",
   "pygments_lexer": "ipython3",
   "version": "3.11.5"
  }
 },
 "nbformat": 4,
 "nbformat_minor": 5
}
