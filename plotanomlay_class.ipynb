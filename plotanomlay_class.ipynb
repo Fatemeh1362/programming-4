{
 "cells": [
  {
   "cell_type": "code",
   "execution_count": null,
   "id": "b6ddfcd3",
   "metadata": {},
   "outputs": [],
   "source": [
    "import matplotlib.pyplot as plt\n",
    "import seaborn as sns\n",
    "\n",
    "class SensorAnomalyPlotter:\n",
    "    def __init__(self, sensor_data):\n",
    "        self.sensor_data = sensor_data\n",
    "        \n",
    "    def plot_sensor_anomalies(self, sensor_name):\n",
    "        plt.figure()  # Create a new figure for each plot\n",
    "        sns.lineplot(data=self.sensor_data, x='timestamp', y=sensor_name)\n",
    "        plt.title(f'Sensor {sensor_name} Anomalies')\n",
    "        plt.xlabel('Timestamp')\n",
    "        plt.ylabel('Sensor Value')\n",
    "        plt.grid(True)\n",
    "        plt.show()  # Display the plot"
   ]
  }
 ],
 "metadata": {
  "kernelspec": {
   "display_name": "Python 3 (ipykernel)",
   "language": "python",
   "name": "python3"
  },
  "language_info": {
   "codemirror_mode": {
    "name": "ipython",
    "version": 3
   },
   "file_extension": ".py",
   "mimetype": "text/x-python",
   "name": "python",
   "nbconvert_exporter": "python",
   "pygments_lexer": "ipython3",
   "version": "3.11.5"
  }
 },
 "nbformat": 4,
 "nbformat_minor": 5
}
